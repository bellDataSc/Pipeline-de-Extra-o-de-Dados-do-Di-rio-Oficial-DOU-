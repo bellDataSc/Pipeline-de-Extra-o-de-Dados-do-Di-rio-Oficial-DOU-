{
 "cells": [
  {
   "cell_type": "code",
   "execution_count": null,
   "id": "import-csv",
   "metadata": {},
   "outputs": [],
   "source": [
    "import pandas as pd\n",
    "\n",
    "# Carregar CSV raspado\n",
    "df = pd.read_csv("../data/diarios_csv/dou_2025-07-01.csv")\n",
    "\n",
    "# Exibir primeiras linhas\n",
    "df.head()"
   ]
  },
  {
   "cell_type": "code",
   "execution_count": null,
   "id": "filtrar-nomeacoes",
   "metadata": {},
   "outputs": [],
   "source": [
    "# Filtrar atos de nomeação\n",
    "nomeacoes = df[df['conteudo'].str.contains("nomear|designar", case=False)]\n",
    "nomeacoes.head()"
   ]
  },
  {
   "cell_type": "code",
   "execution_count": null,
   "id": "exportar-nomeacoes",
   "metadata": {},
   "outputs": [],
   "source": [
    "# Exportar subset\n",
    "nomeacoes.to_csv("../data/diarios_csv/nomeacoes_filtradas.csv", index=False)"
   ]
  }
 ],
 "metadata": {},
 "nbformat": 4,
 "nbformat_minor": 2
}